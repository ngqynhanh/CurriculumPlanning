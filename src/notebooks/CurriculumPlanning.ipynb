{
 "cells": [
  {
   "cell_type": "code",
   "execution_count": 13,
   "metadata": {},
   "outputs": [],
   "source": [
    "%load_ext autoreload\n",
    "%autoreload 2"
   ]
  },
  {
   "cell_type": "code",
   "execution_count": 1,
   "metadata": {
    "id": "cKVIiM-GNY5c"
   },
   "outputs": [],
   "source": [
    "from sentence_transformers import SentenceTransformer, util"
   ]
  },
  {
   "cell_type": "code",
   "execution_count": 3,
   "metadata": {
    "id": "fSnDKCC8Widj"
   },
   "outputs": [],
   "source": [
    "import pandas as pd"
   ]
  },
  {
   "cell_type": "markdown",
   "metadata": {
    "id": "4jcKyDun_a5z"
   },
   "source": [
    "# Course Data Loader & Preprocessing\n",
    "Load all available course with metadata"
   ]
  },
  {
   "cell_type": "code",
   "execution_count": 9,
   "metadata": {
    "id": "iLZY624U__xN"
   },
   "outputs": [],
   "source": [
    "course_raw_file = \"data/course_raw.csv\""
   ]
  },
  {
   "cell_type": "code",
   "execution_count": 14,
   "metadata": {
    "colab": {
     "base_uri": "https://localhost:8080/",
     "height": 206
    },
    "id": "5ep_lJv9_XdG",
    "outputId": "e668e62b-75b9-4bc9-dcc2-8e7f742cd635"
   },
   "outputs": [
    {
     "ename": "NameError",
     "evalue": "name 'DataProcess' is not defined",
     "output_type": "error",
     "traceback": [
      "\u001b[1;31m---------------------------------------------------------------------------\u001b[0m",
      "\u001b[1;31mNameError\u001b[0m                                 Traceback (most recent call last)",
      "Cell \u001b[1;32mIn[14], line 2\u001b[0m\n\u001b[0;32m      1\u001b[0m \u001b[38;5;66;03m# convert csv file into dataframe\u001b[39;00m\n\u001b[1;32m----> 2\u001b[0m DataProcess \u001b[38;5;241m=\u001b[39m DataProcess()\n\u001b[0;32m      3\u001b[0m df \u001b[38;5;241m=\u001b[39m DataProcess\u001b[38;5;241m.\u001b[39mload_data(course_raw_file)\n\u001b[0;32m      4\u001b[0m df\u001b[38;5;241m.\u001b[39mhead()\n",
      "\u001b[1;31mNameError\u001b[0m: name 'DataProcess' is not defined"
     ]
    }
   ],
   "source": [
    "# convert csv file into dataframe\n",
    "DataProcess = DataProcess()\n",
    "df = DataProcess.load_data(course_raw_file)\n",
    "df.head()"
   ]
  },
  {
   "cell_type": "code",
   "execution_count": 82,
   "metadata": {
    "colab": {
     "base_uri": "https://localhost:8080/",
     "height": 429
    },
    "id": "-tplMMCaCRtK",
    "outputId": "1a1e1ff6-a877-45bd-f69c-9aae8a75f63c"
   },
   "outputs": [
    {
     "data": {
      "text/html": [
       "<div>\n",
       "<style scoped>\n",
       "    .dataframe tbody tr th:only-of-type {\n",
       "        vertical-align: middle;\n",
       "    }\n",
       "\n",
       "    .dataframe tbody tr th {\n",
       "        vertical-align: top;\n",
       "    }\n",
       "\n",
       "    .dataframe thead th {\n",
       "        text-align: right;\n",
       "    }\n",
       "</style>\n",
       "<table border=\"1\" class=\"dataframe\">\n",
       "  <thead>\n",
       "    <tr style=\"text-align: right;\">\n",
       "      <th></th>\n",
       "      <th>0</th>\n",
       "    </tr>\n",
       "  </thead>\n",
       "  <tbody>\n",
       "    <tr>\n",
       "      <th>ID</th>\n",
       "      <td>0</td>\n",
       "    </tr>\n",
       "    <tr>\n",
       "      <th>COURSE_ID</th>\n",
       "      <td>0</td>\n",
       "    </tr>\n",
       "    <tr>\n",
       "      <th>COURSE_NAME</th>\n",
       "      <td>0</td>\n",
       "    </tr>\n",
       "    <tr>\n",
       "      <th>CREDITS</th>\n",
       "      <td>0</td>\n",
       "    </tr>\n",
       "    <tr>\n",
       "      <th>ELECTIVE</th>\n",
       "      <td>0</td>\n",
       "    </tr>\n",
       "    <tr>\n",
       "      <th>HASSTUDIED</th>\n",
       "      <td>0</td>\n",
       "    </tr>\n",
       "    <tr>\n",
       "      <th>COURSE_DIFFICULTY</th>\n",
       "      <td>0</td>\n",
       "    </tr>\n",
       "    <tr>\n",
       "      <th>PREREQUISITES</th>\n",
       "      <td>45</td>\n",
       "    </tr>\n",
       "    <tr>\n",
       "      <th>COREQUISITE</th>\n",
       "      <td>58</td>\n",
       "    </tr>\n",
       "    <tr>\n",
       "      <th>PREVIOUS</th>\n",
       "      <td>47</td>\n",
       "    </tr>\n",
       "    <tr>\n",
       "      <th>COURSE_DESCRIPTION</th>\n",
       "      <td>0</td>\n",
       "    </tr>\n",
       "  </tbody>\n",
       "</table>\n",
       "</div><br><label><b>dtype:</b> int64</label>"
      ],
      "text/plain": [
       "ID                     0\n",
       "COURSE_ID              0\n",
       "COURSE_NAME            0\n",
       "CREDITS                0\n",
       "ELECTIVE               0\n",
       "HASSTUDIED             0\n",
       "COURSE_DIFFICULTY      0\n",
       "PREREQUISITES         45\n",
       "COREQUISITE           58\n",
       "PREVIOUS              47\n",
       "COURSE_DESCRIPTION     0\n",
       "dtype: int64"
      ]
     },
     "execution_count": 82,
     "metadata": {},
     "output_type": "execute_result"
    }
   ],
   "source": [
    "df.isna().sum()"
   ]
  },
  {
   "cell_type": "code",
   "execution_count": 83,
   "metadata": {
    "id": "g3EdQv02CeFD"
   },
   "outputs": [],
   "source": [
    "df = df.fillna(0)"
   ]
  },
  {
   "cell_type": "markdown",
   "metadata": {
    "id": "AnF7dWt_NC3c"
   },
   "source": [
    "# Features (User's Input):\n",
    "completed courses, numbers of semesters, future goals, average difficulty of each semester"
   ]
  },
  {
   "cell_type": "markdown",
   "metadata": {
    "id": "sKMvPLxqNPcU"
   },
   "source": [
    "Future goals: case-extraction"
   ]
  },
  {
   "cell_type": "code",
   "execution_count": 84,
   "metadata": {
    "id": "7XDPXH3YNO9h"
   },
   "outputs": [],
   "source": [
    "user_input = \"I want to make intelligent programs that understand images\""
   ]
  },
  {
   "cell_type": "code",
   "execution_count": 85,
   "metadata": {
    "colab": {
     "base_uri": "https://localhost:8080/"
    },
    "id": "7sXTh_AWFhs4",
    "outputId": "2533d3bc-de98-4d0a-f8d0-5611b9c4e1be"
   },
   "outputs": [
    {
     "name": "stderr",
     "output_type": "stream",
     "text": [
      "/usr/local/lib/python3.11/dist-packages/torch/nn/modules/module.py:1750: FutureWarning: `encoder_attention_mask` is deprecated and will be removed in version 4.55.0 for `BertSdpaSelfAttention.forward`.\n",
      "  return forward_call(*args, **kwargs)\n"
     ]
    }
   ],
   "source": [
    "model = SentenceTransformer('all-MiniLM-L6-v2')\n",
    "user_embedding = model.encode(user_input)"
   ]
  },
  {
   "cell_type": "code",
   "execution_count": 86,
   "metadata": {
    "colab": {
     "base_uri": "https://localhost:8080/",
     "height": 206
    },
    "id": "_OJPtXJQNayP",
    "outputId": "47e9f34a-a6fa-4468-d09d-0ded01662f79"
   },
   "outputs": [
    {
     "data": {
      "application/vnd.google.colaboratory.intrinsic+json": {
       "summary": "{\n  \"name\": \"course_description\",\n  \"rows\": 60,\n  \"fields\": [\n    {\n      \"column\": \"COURSE_DESCRIPTION\",\n      \"properties\": {\n        \"dtype\": \"string\",\n        \"num_unique_values\": 60,\n        \"samples\": [\n          \"This course introduces the principles of deep learning, including neural networks, convolutional neural networks (CNNs), recurrent networks, and autoencoders, with practical applications in image and language processing.\",\n          \"This course develops basic academic writing skills, including paragraph structure, coherence, and grammar for clear written communication.\",\n          \"Explores processor design, memory hierarchies, instruction sets, and performance optimization.\"\n        ],\n        \"semantic_type\": \"\",\n        \"description\": \"\"\n      }\n    }\n  ]\n}",
       "type": "dataframe",
       "variable_name": "course_description"
      },
      "text/html": [
       "\n",
       "  <div id=\"df-b51a21b6-8bf8-4e44-aca0-b66f18a90725\" class=\"colab-df-container\">\n",
       "    <div>\n",
       "<style scoped>\n",
       "    .dataframe tbody tr th:only-of-type {\n",
       "        vertical-align: middle;\n",
       "    }\n",
       "\n",
       "    .dataframe tbody tr th {\n",
       "        vertical-align: top;\n",
       "    }\n",
       "\n",
       "    .dataframe thead th {\n",
       "        text-align: right;\n",
       "    }\n",
       "</style>\n",
       "<table border=\"1\" class=\"dataframe\">\n",
       "  <thead>\n",
       "    <tr style=\"text-align: right;\">\n",
       "      <th></th>\n",
       "      <th>COURSE_DESCRIPTION</th>\n",
       "    </tr>\n",
       "  </thead>\n",
       "  <tbody>\n",
       "    <tr>\n",
       "      <th>0</th>\n",
       "      <td>This course introduces the principles of deep ...</td>\n",
       "    </tr>\n",
       "    <tr>\n",
       "      <th>1</th>\n",
       "      <td>This course covers fundamental calculus concep...</td>\n",
       "    </tr>\n",
       "    <tr>\n",
       "      <th>2</th>\n",
       "      <td>An introduction to structured and procedural p...</td>\n",
       "    </tr>\n",
       "    <tr>\n",
       "      <th>3</th>\n",
       "      <td>Fundamentals of mechanics including motion, fo...</td>\n",
       "    </tr>\n",
       "    <tr>\n",
       "      <th>4</th>\n",
       "      <td>A beginner-level course in academic English li...</td>\n",
       "    </tr>\n",
       "  </tbody>\n",
       "</table>\n",
       "</div>\n",
       "    <div class=\"colab-df-buttons\">\n",
       "\n",
       "  <div class=\"colab-df-container\">\n",
       "    <button class=\"colab-df-convert\" onclick=\"convertToInteractive('df-b51a21b6-8bf8-4e44-aca0-b66f18a90725')\"\n",
       "            title=\"Convert this dataframe to an interactive table.\"\n",
       "            style=\"display:none;\">\n",
       "\n",
       "  <svg xmlns=\"http://www.w3.org/2000/svg\" height=\"24px\" viewBox=\"0 -960 960 960\">\n",
       "    <path d=\"M120-120v-720h720v720H120Zm60-500h600v-160H180v160Zm220 220h160v-160H400v160Zm0 220h160v-160H400v160ZM180-400h160v-160H180v160Zm440 0h160v-160H620v160ZM180-180h160v-160H180v160Zm440 0h160v-160H620v160Z\"/>\n",
       "  </svg>\n",
       "    </button>\n",
       "\n",
       "  <style>\n",
       "    .colab-df-container {\n",
       "      display:flex;\n",
       "      gap: 12px;\n",
       "    }\n",
       "\n",
       "    .colab-df-convert {\n",
       "      background-color: #E8F0FE;\n",
       "      border: none;\n",
       "      border-radius: 50%;\n",
       "      cursor: pointer;\n",
       "      display: none;\n",
       "      fill: #1967D2;\n",
       "      height: 32px;\n",
       "      padding: 0 0 0 0;\n",
       "      width: 32px;\n",
       "    }\n",
       "\n",
       "    .colab-df-convert:hover {\n",
       "      background-color: #E2EBFA;\n",
       "      box-shadow: 0px 1px 2px rgba(60, 64, 67, 0.3), 0px 1px 3px 1px rgba(60, 64, 67, 0.15);\n",
       "      fill: #174EA6;\n",
       "    }\n",
       "\n",
       "    .colab-df-buttons div {\n",
       "      margin-bottom: 4px;\n",
       "    }\n",
       "\n",
       "    [theme=dark] .colab-df-convert {\n",
       "      background-color: #3B4455;\n",
       "      fill: #D2E3FC;\n",
       "    }\n",
       "\n",
       "    [theme=dark] .colab-df-convert:hover {\n",
       "      background-color: #434B5C;\n",
       "      box-shadow: 0px 1px 3px 1px rgba(0, 0, 0, 0.15);\n",
       "      filter: drop-shadow(0px 1px 2px rgba(0, 0, 0, 0.3));\n",
       "      fill: #FFFFFF;\n",
       "    }\n",
       "  </style>\n",
       "\n",
       "    <script>\n",
       "      const buttonEl =\n",
       "        document.querySelector('#df-b51a21b6-8bf8-4e44-aca0-b66f18a90725 button.colab-df-convert');\n",
       "      buttonEl.style.display =\n",
       "        google.colab.kernel.accessAllowed ? 'block' : 'none';\n",
       "\n",
       "      async function convertToInteractive(key) {\n",
       "        const element = document.querySelector('#df-b51a21b6-8bf8-4e44-aca0-b66f18a90725');\n",
       "        const dataTable =\n",
       "          await google.colab.kernel.invokeFunction('convertToInteractive',\n",
       "                                                    [key], {});\n",
       "        if (!dataTable) return;\n",
       "\n",
       "        const docLinkHtml = 'Like what you see? Visit the ' +\n",
       "          '<a target=\"_blank\" href=https://colab.research.google.com/notebooks/data_table.ipynb>data table notebook</a>'\n",
       "          + ' to learn more about interactive tables.';\n",
       "        element.innerHTML = '';\n",
       "        dataTable['output_type'] = 'display_data';\n",
       "        await google.colab.output.renderOutput(dataTable, element);\n",
       "        const docLink = document.createElement('div');\n",
       "        docLink.innerHTML = docLinkHtml;\n",
       "        element.appendChild(docLink);\n",
       "      }\n",
       "    </script>\n",
       "  </div>\n",
       "\n",
       "\n",
       "    <div id=\"df-ac87d043-add0-4eb6-80dd-e693c2841532\">\n",
       "      <button class=\"colab-df-quickchart\" onclick=\"quickchart('df-ac87d043-add0-4eb6-80dd-e693c2841532')\"\n",
       "                title=\"Suggest charts\"\n",
       "                style=\"display:none;\">\n",
       "\n",
       "<svg xmlns=\"http://www.w3.org/2000/svg\" height=\"24px\"viewBox=\"0 0 24 24\"\n",
       "     width=\"24px\">\n",
       "    <g>\n",
       "        <path d=\"M19 3H5c-1.1 0-2 .9-2 2v14c0 1.1.9 2 2 2h14c1.1 0 2-.9 2-2V5c0-1.1-.9-2-2-2zM9 17H7v-7h2v7zm4 0h-2V7h2v10zm4 0h-2v-4h2v4z\"/>\n",
       "    </g>\n",
       "</svg>\n",
       "      </button>\n",
       "\n",
       "<style>\n",
       "  .colab-df-quickchart {\n",
       "      --bg-color: #E8F0FE;\n",
       "      --fill-color: #1967D2;\n",
       "      --hover-bg-color: #E2EBFA;\n",
       "      --hover-fill-color: #174EA6;\n",
       "      --disabled-fill-color: #AAA;\n",
       "      --disabled-bg-color: #DDD;\n",
       "  }\n",
       "\n",
       "  [theme=dark] .colab-df-quickchart {\n",
       "      --bg-color: #3B4455;\n",
       "      --fill-color: #D2E3FC;\n",
       "      --hover-bg-color: #434B5C;\n",
       "      --hover-fill-color: #FFFFFF;\n",
       "      --disabled-bg-color: #3B4455;\n",
       "      --disabled-fill-color: #666;\n",
       "  }\n",
       "\n",
       "  .colab-df-quickchart {\n",
       "    background-color: var(--bg-color);\n",
       "    border: none;\n",
       "    border-radius: 50%;\n",
       "    cursor: pointer;\n",
       "    display: none;\n",
       "    fill: var(--fill-color);\n",
       "    height: 32px;\n",
       "    padding: 0;\n",
       "    width: 32px;\n",
       "  }\n",
       "\n",
       "  .colab-df-quickchart:hover {\n",
       "    background-color: var(--hover-bg-color);\n",
       "    box-shadow: 0 1px 2px rgba(60, 64, 67, 0.3), 0 1px 3px 1px rgba(60, 64, 67, 0.15);\n",
       "    fill: var(--button-hover-fill-color);\n",
       "  }\n",
       "\n",
       "  .colab-df-quickchart-complete:disabled,\n",
       "  .colab-df-quickchart-complete:disabled:hover {\n",
       "    background-color: var(--disabled-bg-color);\n",
       "    fill: var(--disabled-fill-color);\n",
       "    box-shadow: none;\n",
       "  }\n",
       "\n",
       "  .colab-df-spinner {\n",
       "    border: 2px solid var(--fill-color);\n",
       "    border-color: transparent;\n",
       "    border-bottom-color: var(--fill-color);\n",
       "    animation:\n",
       "      spin 1s steps(1) infinite;\n",
       "  }\n",
       "\n",
       "  @keyframes spin {\n",
       "    0% {\n",
       "      border-color: transparent;\n",
       "      border-bottom-color: var(--fill-color);\n",
       "      border-left-color: var(--fill-color);\n",
       "    }\n",
       "    20% {\n",
       "      border-color: transparent;\n",
       "      border-left-color: var(--fill-color);\n",
       "      border-top-color: var(--fill-color);\n",
       "    }\n",
       "    30% {\n",
       "      border-color: transparent;\n",
       "      border-left-color: var(--fill-color);\n",
       "      border-top-color: var(--fill-color);\n",
       "      border-right-color: var(--fill-color);\n",
       "    }\n",
       "    40% {\n",
       "      border-color: transparent;\n",
       "      border-right-color: var(--fill-color);\n",
       "      border-top-color: var(--fill-color);\n",
       "    }\n",
       "    60% {\n",
       "      border-color: transparent;\n",
       "      border-right-color: var(--fill-color);\n",
       "    }\n",
       "    80% {\n",
       "      border-color: transparent;\n",
       "      border-right-color: var(--fill-color);\n",
       "      border-bottom-color: var(--fill-color);\n",
       "    }\n",
       "    90% {\n",
       "      border-color: transparent;\n",
       "      border-bottom-color: var(--fill-color);\n",
       "    }\n",
       "  }\n",
       "</style>\n",
       "\n",
       "      <script>\n",
       "        async function quickchart(key) {\n",
       "          const quickchartButtonEl =\n",
       "            document.querySelector('#' + key + ' button');\n",
       "          quickchartButtonEl.disabled = true;  // To prevent multiple clicks.\n",
       "          quickchartButtonEl.classList.add('colab-df-spinner');\n",
       "          try {\n",
       "            const charts = await google.colab.kernel.invokeFunction(\n",
       "                'suggestCharts', [key], {});\n",
       "          } catch (error) {\n",
       "            console.error('Error during call to suggestCharts:', error);\n",
       "          }\n",
       "          quickchartButtonEl.classList.remove('colab-df-spinner');\n",
       "          quickchartButtonEl.classList.add('colab-df-quickchart-complete');\n",
       "        }\n",
       "        (() => {\n",
       "          let quickchartButtonEl =\n",
       "            document.querySelector('#df-ac87d043-add0-4eb6-80dd-e693c2841532 button');\n",
       "          quickchartButtonEl.style.display =\n",
       "            google.colab.kernel.accessAllowed ? 'block' : 'none';\n",
       "        })();\n",
       "      </script>\n",
       "    </div>\n",
       "\n",
       "    </div>\n",
       "  </div>\n"
      ],
      "text/plain": [
       "                                  COURSE_DESCRIPTION\n",
       "0  This course introduces the principles of deep ...\n",
       "1  This course covers fundamental calculus concep...\n",
       "2  An introduction to structured and procedural p...\n",
       "3  Fundamentals of mechanics including motion, fo...\n",
       "4  A beginner-level course in academic English li..."
      ]
     },
     "execution_count": 86,
     "metadata": {},
     "output_type": "execute_result"
    }
   ],
   "source": [
    "course_description = pd.DataFrame(df['COURSE_DESCRIPTION'])\n",
    "course_description.head()"
   ]
  },
  {
   "cell_type": "code",
   "execution_count": 87,
   "metadata": {
    "id": "rFm3akl8W9IQ"
   },
   "outputs": [],
   "source": [
    "course_description = df[\"COURSE_DESCRIPTION\"].astype(str).tolist()"
   ]
  },
  {
   "cell_type": "code",
   "execution_count": 88,
   "metadata": {
    "colab": {
     "base_uri": "https://localhost:8080/"
    },
    "id": "9-gnYt_2XSOw",
    "outputId": "2d3e9437-f947-45a7-959a-69491e095702"
   },
   "outputs": [
    {
     "name": "stdout",
     "output_type": "stream",
     "text": [
      "['This course introduces the principles of deep learning, including neural networks, convolutional neural networks (CNNs), recurrent networks, and autoencoders, with practical applications in image and language processing.', 'This course covers fundamental calculus concepts such as limits, derivatives, and integrals, with applications in engineering and science.', 'An introduction to structured and procedural programming using the C and C++ languages, covering syntax, control structures, functions, and file handling.', 'Fundamentals of mechanics including motion, forces, energy, momentum, and rotational dynamics, tailored for science and engineering students.', 'A beginner-level course in academic English listening skills, focusing on understanding lectures, note-taking, and recognizing main ideas and details.', 'This course develops basic academic writing skills, including paragraph structure, coherence, and grammar for clear written communication.', 'A foundational course introducing computer systems, binary logic, software, hardware, and basic programming concepts.', 'A lab course accompanying Physics 3, allowing students to experimentally explore electromagnetism and optics through hands-on activities.', 'This intermediate-level course focuses on improving spoken English for academic discussions, presentations, and interactive communication.', 'Advanced physics concepts involving electricity, magnetism, and optics, with theoretical and real-world engineering applications.', 'Explores object-oriented concepts such as classes, inheritance, polymorphism, and encapsulation using Java or C++.', 'An intermediate academic writing course emphasizing essay structure, argumentation, citation, and critical thinking.', 'Provides foundational mathematical structures for computer science including logic, sets, functions, combinatorics, and graph theory.', 'This course covers IP protocols, routing algorithms, TCP/IP, network architecture, LAN/WAN, and security concepts.', 'Continues Calculus 1 with techniques of integration, sequences and series, and multivariable functions.', 'Covers vectors, matrices, determinants, linear transformations, eigenvalues, and their applications in computing.', 'Study of sorting, searching, trees, graphs, and algorithm analysis to solve computational problems efficiently.', 'Introduces relational databases, SQL, normalization, ER models, and database design.', 'A theoretical course on Marxist-Leninist economics, focusing on class struggle, surplus value, and socialist economic planning.', 'Introduces dialectical materialism, historical materialism, and their application in society and politics.', 'Covers the design and development of mobile applications on platforms like Android and iOS using appropriate SDKs and tools.', 'Focuses on designing user-friendly interfaces, usability testing, and interaction models in software applications.', 'An introduction to IoT architecture, sensors, networking, data collection, and smart device integration.', 'Develops logical reasoning, argument analysis, and decision-making skills across a range of contexts.', 'A physical education course promoting fitness, endurance, and basic physical skills through structured exercise routines.', 'Covers full-stack web development including front-end frameworks, back-end APIs, and deployment practices.', 'Focuses on software testing techniques, validation strategies, defect management, and quality assurance.', 'Teaches game design principles, graphics, physics engines, and development using modern game frameworks.', 'Covers cryptography, network security, firewalls, and secure coding practices.', 'Introduces blockchain technology, smart contracts, distributed ledgers, and their applications in modern systems.', 'Explores project lifecycle, planning, risk management, and agile methodologies in software development projects.', 'Combines data preprocessing, statistical analysis, machine learning, and visualization tools like Tableau or Python.', 'Covers algorithms and techniques for rendering, modeling, and animation using OpenGL or similar libraries.', 'Focuses on object-oriented software modeling with UML, design patterns, and system analysis.', 'Introduces cloud architectures, virtualization, cloud services (IaaS, PaaS, SaaS), and deployment models.', 'Teaches strategic use of information systems for business decision-making and enterprise resource planning.', 'Explores processor design, memory hierarchies, instruction sets, and performance optimization.', 'Focuses on DevOps culture, CI/CD pipelines, version control, and infrastructure as code.', 'Covers data preprocessing, pattern discovery, clustering, classification, and association rule mining techniques.', 'Analyzes the scientific basis of socialism, historical development, and practical implementation.', 'Focuses on system design, architectural patterns, component-based development, and scalability.', 'A continuation of PT001IU emphasizing team sports, coordination, and cardiovascular fitness.', 'Teaches socket programming, network protocols, and distributed application development.', 'Explores programming paradigms, syntax and semantics, and language implementation techniques.', 'Covers image transformation, filtering, enhancement, segmentation, and computer vision basics.', 'Introduces probability theory, statistical inference, and random processes with applications in engineering.', 'Covers the principles of financial accounting, financial statements, and analysis for decision-making.', 'Introduces marketing fundamentals, consumer behavior, product strategy, and market research.', 'Examines the formation, development, and leadership role of the Communist Party in Vietnamese history.', 'Covers search algorithms, knowledge representation, reasoning, and machine learning techniques in AI systems.', 'Provides foundational knowledge of legal systems, civil law, and rights relevant to everyday life.', 'Focuses on business idea generation, startups, venture capital, and entrepreneurial mindset development.', 'Introduces analog and digital communication, modulation techniques, and system performance analysis.', 'Covers circuit theory, electrical components, and measurement tools for beginners in EE.', 'Focuses on software development methodologies, lifecycle models, requirements engineering, and team collaboration.', 'A supervised industrial placement to apply academic knowledge in a real-world work environment.', \"An individual research or development project in a selected area of the student's major.\", 'Covers processes, memory management, file systems, and concurrency in modern operating systems.', 'Explores the ideological foundation and political philosophy of Ho Chi Minh and its impact on Vietnam.', 'The final capstone project involving research or development in a specific computer science domain under supervision.']\n"
     ]
    }
   ],
   "source": [
    "print(course_description)"
   ]
  },
  {
   "cell_type": "code",
   "execution_count": 89,
   "metadata": {
    "colab": {
     "base_uri": "https://localhost:8080/"
    },
    "id": "LURRrJtwWwZT",
    "outputId": "fb823332-d870-4387-da42-0c1b7d9f7907"
   },
   "outputs": [
    {
     "name": "stderr",
     "output_type": "stream",
     "text": [
      "/usr/local/lib/python3.11/dist-packages/torch/nn/modules/module.py:1750: FutureWarning: `encoder_attention_mask` is deprecated and will be removed in version 4.55.0 for `BertSdpaSelfAttention.forward`.\n",
      "  return forward_call(*args, **kwargs)\n"
     ]
    },
    {
     "data": {
      "text/plain": [
       "(60, 384)"
      ]
     },
     "execution_count": 89,
     "metadata": {},
     "output_type": "execute_result"
    }
   ],
   "source": [
    "flattened = [item[0] for item in course_description]\n",
    "course_embeddings = model.encode(flattened)\n",
    "\n",
    "course_embeddings.shape"
   ]
  },
  {
   "cell_type": "code",
   "execution_count": 90,
   "metadata": {
    "colab": {
     "base_uri": "https://localhost:8080/"
    },
    "id": "jLuMfg5pc4w2",
    "outputId": "be148c68-6517-45dd-821e-680a873f2020"
   },
   "outputs": [
    {
     "name": "stdout",
     "output_type": "stream",
     "text": [
      "tensor([[0.0558, 0.0558, 0.0517, 0.0575, 0.0517, 0.0558, 0.0517, 0.0517, 0.0558,\n",
      "         0.0517, 0.0835, 0.0517, 0.0400, 0.0558, 0.1039, 0.1039, 0.0703, 0.0632,\n",
      "         0.0517, 0.0632, 0.1039, 0.0575, 0.0517, 0.0334, 0.0517, 0.1039, 0.0575,\n",
      "         0.0558, 0.1039, 0.0632, 0.0835, 0.1039, 0.1039, 0.0575, 0.0632, 0.0558,\n",
      "         0.0835, 0.0575, 0.1039, 0.0517, 0.0575, 0.0517, 0.0558, 0.0835, 0.1039,\n",
      "         0.0632, 0.1039, 0.0632, 0.0835, 0.1039, 0.0400, 0.0575, 0.0632, 0.1039,\n",
      "         0.0575, 0.0517, 0.0517, 0.1039, 0.0835, 0.0558]])\n"
     ]
    }
   ],
   "source": [
    "similarities = util.cos_sim(user_embedding, course_embeddings)\n",
    "print(similarities)"
   ]
  },
  {
   "cell_type": "code",
   "execution_count": 93,
   "metadata": {
    "colab": {
     "base_uri": "https://localhost:8080/"
    },
    "id": "W39V1vcDW1Kv",
    "outputId": "03821586-3d86-47e9-bd57-4073acdfb547"
   },
   "outputs": [
    {
     "name": "stdout",
     "output_type": "stream",
     "text": [
      "ID                                                                   15\n",
      "COURSE_ID                                                       IT154IU\n",
      "COURSE_NAME                                              Linear Algebra\n",
      "CREDITS                                                               3\n",
      "ELECTIVE                                                              0\n",
      "HASSTUDIED                                                            0\n",
      "COURSE_DIFFICULTY                                                 0.529\n",
      "PREREQUISITES                                                   MA002IU\n",
      "COREQUISITE                                                           0\n",
      "PREVIOUS                                                              0\n",
      "COURSE_DESCRIPTION    Continues Calculus 1 with techniques of integr...\n",
      "Name: 14, dtype: object\n",
      "ID                                                                   29\n",
      "COURSE_ID                                                       IT150IU\n",
      "COURSE_NAME                                                  Blockchain\n",
      "CREDITS                                                               4\n",
      "ELECTIVE                                                              1\n",
      "HASSTUDIED                                                            0\n",
      "COURSE_DIFFICULTY                                                 0.479\n",
      "PREREQUISITES                                                         0\n",
      "COREQUISITE                                                           0\n",
      "PREVIOUS                                                              0\n",
      "COURSE_DESCRIPTION    Covers cryptography, network security, firewal...\n",
      "Name: 28, dtype: object\n",
      "ID                                                                   26\n",
      "COURSE_ID                                                       IT166IU\n",
      "COURSE_NAME                Software Quality Verification and Validation\n",
      "CREDITS                                                               4\n",
      "ELECTIVE                                                              1\n",
      "HASSTUDIED                                                            0\n",
      "COURSE_DIFFICULTY                                                 0.256\n",
      "PREREQUISITES                                                         0\n",
      "COREQUISITE                                                           0\n",
      "PREVIOUS                                                              0\n",
      "COURSE_DESCRIPTION    Covers full-stack web development including fr...\n",
      "Name: 25, dtype: object\n",
      "ID                                                                   32\n",
      "COURSE_ID                                                       IT138IU\n",
      "COURSE_NAME                         Data Science and Data Visualization\n",
      "CREDITS                                                               4\n",
      "ELECTIVE                                                              1\n",
      "HASSTUDIED                                                            0\n",
      "COURSE_DIFFICULTY                                                  0.57\n",
      "PREREQUISITES                                                         0\n",
      "COREQUISITE                                                           0\n",
      "PREVIOUS                                                              0\n",
      "COURSE_DESCRIPTION    Combines data preprocessing, statistical analy...\n",
      "Name: 31, dtype: object\n",
      "ID                                                                   45\n",
      "COURSE_ID                                                       IT130IU\n",
      "COURSE_NAME                                    Digital Image Processing\n",
      "CREDITS                                                               4\n",
      "ELECTIVE                                                              1\n",
      "HASSTUDIED                                                            0\n",
      "COURSE_DIFFICULTY                                                 0.577\n",
      "PREREQUISITES                                                         0\n",
      "COREQUISITE                                                           0\n",
      "PREVIOUS                                                              0\n",
      "COURSE_DESCRIPTION    Covers image transformation, filtering, enhanc...\n",
      "Name: 44, dtype: object\n"
     ]
    }
   ],
   "source": [
    "top_indices = similarities.argsort(descending=True).tolist()[0]\n",
    "\n",
    "for i in top_indices[:5]:\n",
    "  print(df.iloc[i])"
   ]
  },
  {
   "cell_type": "markdown",
   "metadata": {
    "id": "QfNSoRdk5nU-"
   },
   "source": [
    "# Ontology"
   ]
  },
  {
   "cell_type": "markdown",
   "metadata": {
    "id": "9-WpP6R55upU"
   },
   "source": [
    "Ontology Base = the “conceptual set” (C1, C2, C3…)\n",
    "👉 Think: concepts like Course, Student, Goal\n",
    "\n",
    "Ontology Relations Library (Logic) = the “correlation set” (R1, R2, R3…)\n",
    "👉 Think: relationships like hasGoal, requires, fitsGoal\n",
    "\n",
    "Function Set = reasoning or inferencing rules\n",
    "👉 Think: logic rules like\n",
    "IF course fitsGoal AND student hasGoal THEN recommend(course)\n",
    "\n",
    "Knowledge Base of Ontology = reusable knowledge based on domain-specific ontologies\n",
    "👉 e.g., one for AI curriculum, one for Medicine, etc."
   ]
  },
  {
   "cell_type": "code",
   "execution_count": null,
   "metadata": {
    "id": "3P3tP11-5tox"
   },
   "outputs": [],
   "source": [
    "from rdflib import Graph, Namespace, RDF, RDFS, URIRef, Literal\n",
    "\n",
    "# Define Namespaces\n",
    "EX = Namespace(\"http://example.org/\")\n",
    "\n",
    "# Create graph\n",
    "g = Graph()\n",
    "g.bind(\"ex\", EX)\n",
    "\n",
    "# --- Concepts (C1, C2, C3…) ---\n",
    "g.add((EX.Student, RDF.type, RDFS.Class))\n",
    "g.add((EX.Course, RDF.type, RDFS.Class))\n",
    "g.add((EX.Goal, RDF.type, RDFS.Class))\n",
    "\n",
    "# --- Relationships (R1, R2…) ---\n",
    "g.add((EX.hasGoal, RDF.type, RDF.Property))\n",
    "g.add((EX.hasGoal, RDFS.domain, EX.Student))\n",
    "g.add((EX.hasGoal, RDFS.range, EX.Goal))\n",
    "\n",
    "g.add((EX.fitsGoal, RDF.type, RDF.Property))\n",
    "g.add((EX.fitsGoal, RDFS.domain, EX.Course))\n",
    "g.add((EX.fitsGoal, RDFS.range, EX.Goal))\n",
    "\n",
    "# --- Instances ---\n",
    "g.add((EX.Alice, RDF.type, EX.Student))\n",
    "g.add((EX.AI, RDF.type, EX.Goal))\n",
    "g.add((EX.DeepLearning, RDF.type, EX.Course))\n",
    "\n",
    "# --- Relations Between Instances ---\n",
    "g.add((EX.Alice, EX.hasGoal, EX.AI))\n",
    "g.add((EX.DeepLearning, EX.fitsGoal, EX.AI))\n",
    "\n",
    "# --- Simple Inference (manual logic for now) ---\n",
    "for student, _, goal in g.triples((None, EX.hasGoal, None)):\n",
    "    for course, _, course_goal in g.triples((None, EX.fitsGoal, goal)):\n",
    "        print(f\"Recommend {course.split('/')[-1]} to {student.split('/')[-1]} because it fits goal: {goal.split('/')[-1]}\")\n"
   ]
  }
 ],
 "metadata": {
  "colab": {
   "provenance": []
  },
  "kernelspec": {
   "display_name": "base",
   "language": "python",
   "name": "python3"
  },
  "language_info": {
   "codemirror_mode": {
    "name": "ipython",
    "version": 3
   },
   "file_extension": ".py",
   "mimetype": "text/x-python",
   "name": "python",
   "nbconvert_exporter": "python",
   "pygments_lexer": "ipython3",
   "version": "3.13.5"
  }
 },
 "nbformat": 4,
 "nbformat_minor": 0
}
