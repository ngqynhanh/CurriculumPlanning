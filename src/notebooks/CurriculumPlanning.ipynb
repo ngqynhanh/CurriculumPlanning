{
 "cells": [
  {
   "cell_type": "code",
   "execution_count": 59,
   "metadata": {},
   "outputs": [
    {
     "name": "stdout",
     "output_type": "stream",
     "text": [
      "The autoreload extension is already loaded. To reload it, use:\n",
      "  %reload_ext autoreload\n"
     ]
    }
   ],
   "source": [
    "%load_ext autoreload\n",
    "%autoreload 2"
   ]
  },
  {
   "cell_type": "code",
   "execution_count": 60,
   "metadata": {
    "id": "cKVIiM-GNY5c"
   },
   "outputs": [],
   "source": [
    "from sentence_transformers import SentenceTransformer, util"
   ]
  },
  {
   "cell_type": "code",
   "execution_count": 80,
   "metadata": {
    "id": "fSnDKCC8Widj"
   },
   "outputs": [],
   "source": [
    "import pandas as pd\n",
    "from owlready2 import *"
   ]
  },
  {
   "cell_type": "markdown",
   "metadata": {
    "id": "4jcKyDun_a5z"
   },
   "source": [
    "# Course Data Loader & Preprocessing\n",
    "Load all available course with metadata"
   ]
  },
  {
   "cell_type": "code",
   "execution_count": 62,
   "metadata": {
    "id": "iLZY624U__xN"
   },
   "outputs": [],
   "source": [
    "course_raw_file = \"D:/Documents/Programming/CurriculumPlanning/data/course_raw.csv\""
   ]
  },
  {
   "cell_type": "code",
   "execution_count": 63,
   "metadata": {
    "colab": {
     "base_uri": "https://localhost:8080/",
     "height": 206
    },
    "id": "5ep_lJv9_XdG",
    "outputId": "e668e62b-75b9-4bc9-dcc2-8e7f742cd635"
   },
   "outputs": [
    {
     "data": {
      "text/html": [
       "<div>\n",
       "<style scoped>\n",
       "    .dataframe tbody tr th:only-of-type {\n",
       "        vertical-align: middle;\n",
       "    }\n",
       "\n",
       "    .dataframe tbody tr th {\n",
       "        vertical-align: top;\n",
       "    }\n",
       "\n",
       "    .dataframe thead th {\n",
       "        text-align: right;\n",
       "    }\n",
       "</style>\n",
       "<table border=\"1\" class=\"dataframe\">\n",
       "  <thead>\n",
       "    <tr style=\"text-align: right;\">\n",
       "      <th></th>\n",
       "      <th>ID</th>\n",
       "      <th>COURSE_ID</th>\n",
       "      <th>COURSE_NAME</th>\n",
       "      <th>CREDITS</th>\n",
       "      <th>ELECTIVE</th>\n",
       "      <th>HASSTUDIED</th>\n",
       "      <th>COURSE_DIFFICULTY</th>\n",
       "      <th>PREREQUISITES</th>\n",
       "      <th>COREQUISITE</th>\n",
       "      <th>PREVIOUS</th>\n",
       "      <th>COURSE_DESCRIPTION</th>\n",
       "    </tr>\n",
       "  </thead>\n",
       "  <tbody>\n",
       "    <tr>\n",
       "      <th>0</th>\n",
       "      <td>1</td>\n",
       "      <td>MA001IU</td>\n",
       "      <td>Calculus 1</td>\n",
       "      <td>4</td>\n",
       "      <td>0</td>\n",
       "      <td>1</td>\n",
       "      <td>0.713</td>\n",
       "      <td>NaN</td>\n",
       "      <td>NaN</td>\n",
       "      <td>NaN</td>\n",
       "      <td>This course introduces the principles of deep ...</td>\n",
       "    </tr>\n",
       "    <tr>\n",
       "      <th>1</th>\n",
       "      <td>2</td>\n",
       "      <td>IT116IU</td>\n",
       "      <td>C/C++ Programming</td>\n",
       "      <td>4</td>\n",
       "      <td>0</td>\n",
       "      <td>1</td>\n",
       "      <td>0.724</td>\n",
       "      <td>NaN</td>\n",
       "      <td>NaN</td>\n",
       "      <td>NaN</td>\n",
       "      <td>This course covers fundamental calculus concep...</td>\n",
       "    </tr>\n",
       "    <tr>\n",
       "      <th>2</th>\n",
       "      <td>3</td>\n",
       "      <td>PH013IU</td>\n",
       "      <td>Physics 1</td>\n",
       "      <td>2</td>\n",
       "      <td>0</td>\n",
       "      <td>1</td>\n",
       "      <td>0.356</td>\n",
       "      <td>NaN</td>\n",
       "      <td>NaN</td>\n",
       "      <td>NaN</td>\n",
       "      <td>An introduction to structured and procedural p...</td>\n",
       "    </tr>\n",
       "    <tr>\n",
       "      <th>3</th>\n",
       "      <td>4</td>\n",
       "      <td>EN008IU</td>\n",
       "      <td>Listening AE1</td>\n",
       "      <td>2</td>\n",
       "      <td>0</td>\n",
       "      <td>1</td>\n",
       "      <td>0.605</td>\n",
       "      <td>NaN</td>\n",
       "      <td>NaN</td>\n",
       "      <td>NaN</td>\n",
       "      <td>Fundamentals of mechanics including motion, fo...</td>\n",
       "    </tr>\n",
       "    <tr>\n",
       "      <th>4</th>\n",
       "      <td>5</td>\n",
       "      <td>EN007IU</td>\n",
       "      <td>Writing AE1</td>\n",
       "      <td>2</td>\n",
       "      <td>0</td>\n",
       "      <td>1</td>\n",
       "      <td>0.650</td>\n",
       "      <td>NaN</td>\n",
       "      <td>NaN</td>\n",
       "      <td>NaN</td>\n",
       "      <td>A beginner-level course in academic English li...</td>\n",
       "    </tr>\n",
       "  </tbody>\n",
       "</table>\n",
       "</div>"
      ],
      "text/plain": [
       "   ID COURSE_ID        COURSE_NAME  CREDITS  ELECTIVE  HASSTUDIED  \\\n",
       "0   1   MA001IU         Calculus 1        4         0           1   \n",
       "1   2   IT116IU  C/C++ Programming        4         0           1   \n",
       "2   3   PH013IU          Physics 1        2         0           1   \n",
       "3   4   EN008IU      Listening AE1        2         0           1   \n",
       "4   5   EN007IU        Writing AE1        2         0           1   \n",
       "\n",
       "   COURSE_DIFFICULTY PREREQUISITES COREQUISITE PREVIOUS  \\\n",
       "0              0.713           NaN         NaN      NaN   \n",
       "1              0.724           NaN         NaN      NaN   \n",
       "2              0.356           NaN         NaN      NaN   \n",
       "3              0.605           NaN         NaN      NaN   \n",
       "4              0.650           NaN         NaN      NaN   \n",
       "\n",
       "                                  COURSE_DESCRIPTION  \n",
       "0  This course introduces the principles of deep ...  \n",
       "1  This course covers fundamental calculus concep...  \n",
       "2  An introduction to structured and procedural p...  \n",
       "3  Fundamentals of mechanics including motion, fo...  \n",
       "4  A beginner-level course in academic English li...  "
      ]
     },
     "execution_count": 63,
     "metadata": {},
     "output_type": "execute_result"
    }
   ],
   "source": [
    "# convert csv file into dataframe\n",
    "df = pd.read_csv(course_raw_file)\n",
    "df.head()"
   ]
  },
  {
   "cell_type": "code",
   "execution_count": 64,
   "metadata": {
    "colab": {
     "base_uri": "https://localhost:8080/",
     "height": 429
    },
    "id": "-tplMMCaCRtK",
    "outputId": "1a1e1ff6-a877-45bd-f69c-9aae8a75f63c"
   },
   "outputs": [
    {
     "data": {
      "text/plain": [
       "ID                     0\n",
       "COURSE_ID              0\n",
       "COURSE_NAME            0\n",
       "CREDITS                0\n",
       "ELECTIVE               0\n",
       "HASSTUDIED             0\n",
       "COURSE_DIFFICULTY      0\n",
       "PREREQUISITES         45\n",
       "COREQUISITE           58\n",
       "PREVIOUS              47\n",
       "COURSE_DESCRIPTION     0\n",
       "dtype: int64"
      ]
     },
     "execution_count": 64,
     "metadata": {},
     "output_type": "execute_result"
    }
   ],
   "source": [
    "df.isna().sum()"
   ]
  },
  {
   "cell_type": "code",
   "execution_count": 65,
   "metadata": {
    "id": "g3EdQv02CeFD"
   },
   "outputs": [],
   "source": [
    "df = df.fillna(0)"
   ]
  },
  {
   "cell_type": "code",
   "execution_count": 66,
   "metadata": {},
   "outputs": [],
   "source": [
    "df_cut = df.drop(columns=['HASSTUDIED'])"
   ]
  },
  {
   "cell_type": "code",
   "execution_count": 78,
   "metadata": {},
   "outputs": [
    {
     "name": "stdout",
     "output_type": "stream",
     "text": [
      "ID                    0\n",
      "COURSE_ID             0\n",
      "COURSE_NAME           0\n",
      "CREDITS               0\n",
      "ELECTIVE              0\n",
      "COURSE_DIFFICULTY     0\n",
      "PREREQUISITES         0\n",
      "COREQUISITE           0\n",
      "PREVIOUS              0\n",
      "COURSE_DESCRIPTION    0\n",
      "dtype: int64\n"
     ]
    }
   ],
   "source": [
    "print(df_cut.isna().sum())"
   ]
  },
  {
   "cell_type": "code",
   "execution_count": 67,
   "metadata": {},
   "outputs": [],
   "source": [
    "# convert to another csv file\n",
    "df_cut.to_csv(\"D:/Documents/Programming/CurriculumPlanning/data/course_transformed.csv\", index=False)"
   ]
  },
  {
   "cell_type": "markdown",
   "metadata": {
    "id": "AnF7dWt_NC3c"
   },
   "source": [
    "# Features (User's Input):\n",
    "completed courses, numbers of semesters, future goals, average difficulty of each semester"
   ]
  },
  {
   "cell_type": "markdown",
   "metadata": {
    "id": "sKMvPLxqNPcU"
   },
   "source": [
    "Future goals: case-extraction"
   ]
  },
  {
   "cell_type": "code",
   "execution_count": 68,
   "metadata": {
    "id": "7XDPXH3YNO9h"
   },
   "outputs": [],
   "source": [
    "user_input = \"I want to make intelligent programs that understand images\""
   ]
  },
  {
   "cell_type": "code",
   "execution_count": 69,
   "metadata": {
    "colab": {
     "base_uri": "https://localhost:8080/"
    },
    "id": "7sXTh_AWFhs4",
    "outputId": "2533d3bc-de98-4d0a-f8d0-5611b9c4e1be"
   },
   "outputs": [],
   "source": [
    "model = SentenceTransformer('all-MiniLM-L6-v2')\n",
    "user_embedding = model.encode(user_input)"
   ]
  },
  {
   "cell_type": "code",
   "execution_count": 70,
   "metadata": {
    "colab": {
     "base_uri": "https://localhost:8080/",
     "height": 206
    },
    "id": "_OJPtXJQNayP",
    "outputId": "47e9f34a-a6fa-4468-d09d-0ded01662f79"
   },
   "outputs": [
    {
     "data": {
      "text/html": [
       "<div>\n",
       "<style scoped>\n",
       "    .dataframe tbody tr th:only-of-type {\n",
       "        vertical-align: middle;\n",
       "    }\n",
       "\n",
       "    .dataframe tbody tr th {\n",
       "        vertical-align: top;\n",
       "    }\n",
       "\n",
       "    .dataframe thead th {\n",
       "        text-align: right;\n",
       "    }\n",
       "</style>\n",
       "<table border=\"1\" class=\"dataframe\">\n",
       "  <thead>\n",
       "    <tr style=\"text-align: right;\">\n",
       "      <th></th>\n",
       "      <th>COURSE_DESCRIPTION</th>\n",
       "    </tr>\n",
       "  </thead>\n",
       "  <tbody>\n",
       "    <tr>\n",
       "      <th>0</th>\n",
       "      <td>This course introduces the principles of deep ...</td>\n",
       "    </tr>\n",
       "    <tr>\n",
       "      <th>1</th>\n",
       "      <td>This course covers fundamental calculus concep...</td>\n",
       "    </tr>\n",
       "    <tr>\n",
       "      <th>2</th>\n",
       "      <td>An introduction to structured and procedural p...</td>\n",
       "    </tr>\n",
       "    <tr>\n",
       "      <th>3</th>\n",
       "      <td>Fundamentals of mechanics including motion, fo...</td>\n",
       "    </tr>\n",
       "    <tr>\n",
       "      <th>4</th>\n",
       "      <td>A beginner-level course in academic English li...</td>\n",
       "    </tr>\n",
       "  </tbody>\n",
       "</table>\n",
       "</div>"
      ],
      "text/plain": [
       "                                  COURSE_DESCRIPTION\n",
       "0  This course introduces the principles of deep ...\n",
       "1  This course covers fundamental calculus concep...\n",
       "2  An introduction to structured and procedural p...\n",
       "3  Fundamentals of mechanics including motion, fo...\n",
       "4  A beginner-level course in academic English li..."
      ]
     },
     "execution_count": 70,
     "metadata": {},
     "output_type": "execute_result"
    }
   ],
   "source": [
    "course_description = pd.DataFrame(df['COURSE_DESCRIPTION'])\n",
    "course_description.head()"
   ]
  },
  {
   "cell_type": "code",
   "execution_count": 71,
   "metadata": {
    "id": "rFm3akl8W9IQ"
   },
   "outputs": [],
   "source": [
    "course_description = df[\"COURSE_DESCRIPTION\"].astype(str).tolist()"
   ]
  },
  {
   "cell_type": "code",
   "execution_count": 72,
   "metadata": {
    "colab": {
     "base_uri": "https://localhost:8080/"
    },
    "id": "9-gnYt_2XSOw",
    "outputId": "2d3e9437-f947-45a7-959a-69491e095702"
   },
   "outputs": [
    {
     "name": "stdout",
     "output_type": "stream",
     "text": [
      "['This course introduces the principles of deep learning, including neural networks, convolutional neural networks (CNNs), recurrent networks, and autoencoders, with practical applications in image and language processing.', 'This course covers fundamental calculus concepts such as limits, derivatives, and integrals, with applications in engineering and science.', 'An introduction to structured and procedural programming using the C and C++ languages, covering syntax, control structures, functions, and file handling.', 'Fundamentals of mechanics including motion, forces, energy, momentum, and rotational dynamics, tailored for science and engineering students.', 'A beginner-level course in academic English listening skills, focusing on understanding lectures, note-taking, and recognizing main ideas and details.', 'This course develops basic academic writing skills, including paragraph structure, coherence, and grammar for clear written communication.', 'A foundational course introducing computer systems, binary logic, software, hardware, and basic programming concepts.', 'A lab course accompanying Physics 3, allowing students to experimentally explore electromagnetism and optics through hands-on activities.', 'This intermediate-level course focuses on improving spoken English for academic discussions, presentations, and interactive communication.', 'Advanced physics concepts involving electricity, magnetism, and optics, with theoretical and real-world engineering applications.', 'Explores object-oriented concepts such as classes, inheritance, polymorphism, and encapsulation using Java or C++.', 'An intermediate academic writing course emphasizing essay structure, argumentation, citation, and critical thinking.', 'Provides foundational mathematical structures for computer science including logic, sets, functions, combinatorics, and graph theory.', 'This course covers IP protocols, routing algorithms, TCP/IP, network architecture, LAN/WAN, and security concepts.', 'Continues Calculus 1 with techniques of integration, sequences and series, and multivariable functions.', 'Covers vectors, matrices, determinants, linear transformations, eigenvalues, and their applications in computing.', 'Study of sorting, searching, trees, graphs, and algorithm analysis to solve computational problems efficiently.', 'Introduces relational databases, SQL, normalization, ER models, and database design.', 'A theoretical course on Marxist-Leninist economics, focusing on class struggle, surplus value, and socialist economic planning.', 'Introduces dialectical materialism, historical materialism, and their application in society and politics.', 'Covers the design and development of mobile applications on platforms like Android and iOS using appropriate SDKs and tools.', 'Focuses on designing user-friendly interfaces, usability testing, and interaction models in software applications.', 'An introduction to IoT architecture, sensors, networking, data collection, and smart device integration.', 'Develops logical reasoning, argument analysis, and decision-making skills across a range of contexts.', 'A physical education course promoting fitness, endurance, and basic physical skills through structured exercise routines.', 'Covers full-stack web development including front-end frameworks, back-end APIs, and deployment practices.', 'Focuses on software testing techniques, validation strategies, defect management, and quality assurance.', 'Teaches game design principles, graphics, physics engines, and development using modern game frameworks.', 'Covers cryptography, network security, firewalls, and secure coding practices.', 'Introduces blockchain technology, smart contracts, distributed ledgers, and their applications in modern systems.', 'Explores project lifecycle, planning, risk management, and agile methodologies in software development projects.', 'Combines data preprocessing, statistical analysis, machine learning, and visualization tools like Tableau or Python.', 'Covers algorithms and techniques for rendering, modeling, and animation using OpenGL or similar libraries.', 'Focuses on object-oriented software modeling with UML, design patterns, and system analysis.', 'Introduces cloud architectures, virtualization, cloud services (IaaS, PaaS, SaaS), and deployment models.', 'Teaches strategic use of information systems for business decision-making and enterprise resource planning.', 'Explores processor design, memory hierarchies, instruction sets, and performance optimization.', 'Focuses on DevOps culture, CI/CD pipelines, version control, and infrastructure as code.', 'Covers data preprocessing, pattern discovery, clustering, classification, and association rule mining techniques.', 'Analyzes the scientific basis of socialism, historical development, and practical implementation.', 'Focuses on system design, architectural patterns, component-based development, and scalability.', 'A continuation of PT001IU emphasizing team sports, coordination, and cardiovascular fitness.', 'Teaches socket programming, network protocols, and distributed application development.', 'Explores programming paradigms, syntax and semantics, and language implementation techniques.', 'Covers image transformation, filtering, enhancement, segmentation, and computer vision basics.', 'Introduces probability theory, statistical inference, and random processes with applications in engineering.', 'Covers the principles of financial accounting, financial statements, and analysis for decision-making.', 'Introduces marketing fundamentals, consumer behavior, product strategy, and market research.', 'Examines the formation, development, and leadership role of the Communist Party in Vietnamese history.', 'Covers search algorithms, knowledge representation, reasoning, and machine learning techniques in AI systems.', 'Provides foundational knowledge of legal systems, civil law, and rights relevant to everyday life.', 'Focuses on business idea generation, startups, venture capital, and entrepreneurial mindset development.', 'Introduces analog and digital communication, modulation techniques, and system performance analysis.', 'Covers circuit theory, electrical components, and measurement tools for beginners in EE.', 'Focuses on software development methodologies, lifecycle models, requirements engineering, and team collaboration.', 'A supervised industrial placement to apply academic knowledge in a real-world work environment.', \"An individual research or development project in a selected area of the student's major.\", 'Covers processes, memory management, file systems, and concurrency in modern operating systems.', 'Explores the ideological foundation and political philosophy of Ho Chi Minh and its impact on Vietnam.', 'The final capstone project involving research or development in a specific computer science domain under supervision.']\n"
     ]
    }
   ],
   "source": [
    "print(course_description)"
   ]
  },
  {
   "cell_type": "code",
   "execution_count": 73,
   "metadata": {
    "colab": {
     "base_uri": "https://localhost:8080/"
    },
    "id": "LURRrJtwWwZT",
    "outputId": "fb823332-d870-4387-da42-0c1b7d9f7907"
   },
   "outputs": [
    {
     "data": {
      "text/plain": [
       "(60, 384)"
      ]
     },
     "execution_count": 73,
     "metadata": {},
     "output_type": "execute_result"
    }
   ],
   "source": [
    "flattened = [item[0] for item in course_description]\n",
    "course_embeddings = model.encode(flattened)\n",
    "\n",
    "course_embeddings.shape"
   ]
  },
  {
   "cell_type": "code",
   "execution_count": 74,
   "metadata": {
    "colab": {
     "base_uri": "https://localhost:8080/"
    },
    "id": "jLuMfg5pc4w2",
    "outputId": "be148c68-6517-45dd-821e-680a873f2020"
   },
   "outputs": [
    {
     "name": "stdout",
     "output_type": "stream",
     "text": [
      "tensor([[0.0558, 0.0558, 0.0517, 0.0575, 0.0517, 0.0558, 0.0517, 0.0517, 0.0558,\n",
      "         0.0517, 0.0835, 0.0517, 0.0400, 0.0558, 0.1039, 0.1039, 0.0703, 0.0632,\n",
      "         0.0517, 0.0632, 0.1039, 0.0575, 0.0517, 0.0334, 0.0517, 0.1039, 0.0575,\n",
      "         0.0558, 0.1039, 0.0632, 0.0835, 0.1039, 0.1039, 0.0575, 0.0632, 0.0558,\n",
      "         0.0835, 0.0575, 0.1039, 0.0517, 0.0575, 0.0517, 0.0558, 0.0835, 0.1039,\n",
      "         0.0632, 0.1039, 0.0632, 0.0835, 0.1039, 0.0400, 0.0575, 0.0632, 0.1039,\n",
      "         0.0575, 0.0517, 0.0517, 0.1039, 0.0835, 0.0558]])\n"
     ]
    }
   ],
   "source": [
    "similarities = util.cos_sim(user_embedding, course_embeddings)\n",
    "print(similarities)"
   ]
  },
  {
   "cell_type": "code",
   "execution_count": 75,
   "metadata": {
    "colab": {
     "base_uri": "https://localhost:8080/"
    },
    "id": "W39V1vcDW1Kv",
    "outputId": "03821586-3d86-47e9-bd57-4073acdfb547"
   },
   "outputs": [
    {
     "name": "stdout",
     "output_type": "stream",
     "text": [
      "ID                                                                   15\n",
      "COURSE_ID                                                       IT154IU\n",
      "COURSE_NAME                                              Linear Algebra\n",
      "CREDITS                                                               3\n",
      "ELECTIVE                                                              0\n",
      "HASSTUDIED                                                            0\n",
      "COURSE_DIFFICULTY                                                 0.685\n",
      "PREREQUISITES                                                   MA002IU\n",
      "COREQUISITE                                                           0\n",
      "PREVIOUS                                                              0\n",
      "COURSE_DESCRIPTION    Continues Calculus 1 with techniques of integr...\n",
      "Name: 14, dtype: object\n",
      "ID                                                                   58\n",
      "COURSE_ID                                                       IT017IU\n",
      "COURSE_NAME                                           Operating Systems\n",
      "CREDITS                                                               4\n",
      "ELECTIVE                                                              0\n",
      "HASSTUDIED                                                            0\n",
      "COURSE_DIFFICULTY                                                 0.751\n",
      "PREREQUISITES                                       IT089IU AND IT013IU\n",
      "COREQUISITE                                                           0\n",
      "PREVIOUS                                                              0\n",
      "COURSE_DESCRIPTION    Covers processes, memory management, file syst...\n",
      "Name: 57, dtype: object\n",
      "ID                                                                   32\n",
      "COURSE_ID                                                       IT138IU\n",
      "COURSE_NAME                         Data Science and Data Visualization\n",
      "CREDITS                                                               4\n",
      "ELECTIVE                                                              1\n",
      "HASSTUDIED                                                            0\n",
      "COURSE_DIFFICULTY                                                 0.544\n",
      "PREREQUISITES                                                         0\n",
      "COREQUISITE                                                           0\n",
      "PREVIOUS                                                              0\n",
      "COURSE_DESCRIPTION    Combines data preprocessing, statistical analy...\n",
      "Name: 31, dtype: object\n",
      "ID                                                                   54\n",
      "COURSE_ID                                                       EE049IU\n",
      "COURSE_NAME                      Introduction to Electrical Engineering\n",
      "CREDITS                                                               3\n",
      "ELECTIVE                                                              1\n",
      "HASSTUDIED                                                            0\n",
      "COURSE_DIFFICULTY                                                 0.665\n",
      "PREREQUISITES                                                         0\n",
      "COREQUISITE                                                           0\n",
      "PREVIOUS                                                              0\n",
      "COURSE_DESCRIPTION    Covers circuit theory, electrical components, ...\n",
      "Name: 53, dtype: object\n",
      "ID                                                                   50\n",
      "COURSE_ID                                                       IT159IU\n",
      "COURSE_NAME                                     Artificial Intelligence\n",
      "CREDITS                                                               4\n",
      "ELECTIVE                                                              0\n",
      "HASSTUDIED                                                            0\n",
      "COURSE_DIFFICULTY                                                 0.269\n",
      "PREREQUISITES                                                         0\n",
      "COREQUISITE                                                           0\n",
      "PREVIOUS                                            IT069IU AND IT053IU\n",
      "COURSE_DESCRIPTION    Covers search algorithms, knowledge representa...\n",
      "Name: 49, dtype: object\n"
     ]
    }
   ],
   "source": [
    "top_indices = similarities.argsort(descending=True).tolist()[0]\n",
    "\n",
    "for i in top_indices[:5]:\n",
    "  print(df.iloc[i])"
   ]
  },
  {
   "cell_type": "markdown",
   "metadata": {
    "id": "QfNSoRdk5nU-"
   },
   "source": [
    "# Ontology"
   ]
  },
  {
   "cell_type": "markdown",
   "metadata": {
    "id": "9-WpP6R55upU"
   },
   "source": [
    "Ontology Base = the “conceptual set” (C1, C2, C3…)\n",
    "👉 Think: concepts like Course, Student, Goal\n",
    "\n",
    "Ontology Relations Library (Logic) = the “correlation set” (R1, R2, R3…)\n",
    "👉 Think: relationships like hasGoal, requires, fitsGoal\n",
    "\n",
    "Function Set = reasoning or inferencing rules\n",
    "👉 Think: logic rules like\n",
    "IF course fitsGoal AND student hasGoal THEN recommend(course)\n",
    "\n",
    "Knowledge Base of Ontology = reusable knowledge based on domain-specific ontologies\n",
    "👉 e.g., one for AI curriculum, one for Medicine, etc."
   ]
  },
  {
   "cell_type": "code",
   "execution_count": 76,
   "metadata": {},
   "outputs": [
    {
     "data": {
      "text/plain": [
       "<Graph identifier=N40ae3fa32c084ce1b90ffdccdac9d6cd (<class 'rdflib.graph.Graph'>)>"
      ]
     },
     "execution_count": 76,
     "metadata": {},
     "output_type": "execute_result"
    }
   ],
   "source": [
    "from rdflib import Graph, Namespace, Literal, RDF, URIRef\n",
    "\n",
    "# 1. Extract\n",
    "df = pd.read_csv(\"D:/Documents/Programming/CurriculumPlanning/data/course_transformed.csv\")\n",
    "\n",
    "# 2. Transform\n",
    "EX = Namespace(\"https://github.com/ngqynhanh/CurriculumPlanning/\")\n",
    "\n",
    "g = Graph()\n",
    "for _, row in df.iterrows():\n",
    "    course_uri = URIRef(f\"https://github.com/ngqynhanh/CurriculumPlanning/course/{row['COURSE_ID']}\")\n",
    "    g.add((course_uri, RDF.type, EX.Course))\n",
    "    g.add((course_uri, EX.name, Literal(row['COURSE_NAME'])))\n",
    "    g.add((course_uri, EX.description, Literal(row['COURSE_DESCRIPTION'])))\n",
    "    g.add((course_uri, EX.credits, Literal(row['CREDITS'])))\n",
    "    g.add((course_uri, EX.hasPrerequisite, Literal(row['PREREQUISITES'])))\n",
    "    g.add((course_uri, EX.elective, Literal(row['ELECTIVE'])))\n",
    "    g.add((course_uri, EX.courseDifficulty, Literal(row['COURSE_DIFFICULTY'])))\n",
    "    g.add((course_uri, EX.corequisite, Literal(row['COREQUISITE'])))\n",
    "    g.add((course_uri, EX.previous, Literal(row['PREVIOUS'])))\n",
    "    g.add((course_uri, EX.courseDescription, Literal(row['COURSE_DESCRIPTION'])))\n",
    "\n",
    "# 3. Load (save as ontology file)\n",
    "g.serialize(\"courses.ttl\", format=\"turtle\")"
   ]
  },
  {
   "cell_type": "code",
   "execution_count": null,
   "metadata": {},
   "outputs": [
    {
     "name": "stdout",
     "output_type": "stream",
     "text": [
      "Ontology saved as courses.owl\n"
     ]
    }
   ],
   "source": [
    "# 1. Extract\n",
    "df = pd.read_csv(\"D:/Documents/Programming/CurriculumPlanning/data/course_transformed.csv\")\n",
    "\n",
    "# 2. Create ontology\n",
    "onto = get_ontology(\"https://github.com/ngqynhanh/CurriculumPlanning/ontology.owl\")\n",
    "\n",
    "with onto:\n",
    "    # Define Classes\n",
    "    class Course(Thing): pass\n",
    "    class Program(Thing): pass\n",
    "    \n",
    "    # Define Object Properties\n",
    "    class hasPrerequisite(ObjectProperty):\n",
    "        domain = [Course]\n",
    "        range = [Course]\n",
    "\n",
    "    class corequisite(ObjectProperty):\n",
    "        domain = [Course]\n",
    "        range = [Course]\n",
    "\n",
    "    # Define Data Properties\n",
    "    class name(DataProperty):\n",
    "        domain = [Course]\n",
    "        range = [str]\n",
    "        \n",
    "    class description(DataProperty):\n",
    "        domain = [Course]\n",
    "        range = [str]\n",
    "        \n",
    "    class credits(DataProperty):\n",
    "        domain = [Course]\n",
    "        range = [int]\n",
    "        \n",
    "    class elective(DataProperty):\n",
    "        domain = [Course]\n",
    "        range = [bool]\n",
    "        \n",
    "    class courseDifficulty(DataProperty):\n",
    "        domain = [Course]\n",
    "        range = [float]\n",
    "\n",
    "# 3. Transform & Load\n",
    "for _, row in df.iterrows():\n",
    "    # Create Course instance\n",
    "    course_id = row['COURSE_ID']\n",
    "    course_obj = onto.Course(course_id)\n",
    "    \n",
    "    # Add data properties\n",
    "    course_obj.name = [row['COURSE_NAME']]\n",
    "    course_obj.description = [row['COURSE_DESCRIPTION']]\n",
    "    course_obj.credits = [int(row['CREDITS'])]\n",
    "    course_obj.elective = [bool(row['ELECTIVE'])]\n",
    "    course_obj.courseDifficulty = [float(row['COURSE_DIFFICULTY'])]\n",
    "    \n",
    "    # Add object properties (link to other course objects)\n",
    "    if pd.notna(row['PREREQUISITES']) and row['PREREQUISITES'] != \"\":\n",
    "        for prereq in str(row['PREREQUISITES']).split(\",\"):\n",
    "            prereq_id = prereq.strip()\n",
    "            prereq_obj = onto.Course(prereq_id)  # Will auto-create if not exists yet\n",
    "            course_obj.hasPrerequisite.append(prereq_obj)\n",
    "    \n",
    "    if pd.notna(row['COREQUISITE']) and row['COREQUISITE'] != \"\":\n",
    "        for co in str(row['COREQUISITE']).split(\",\"):\n",
    "            co_id = co.strip()\n",
    "            co_obj = onto.Course(co_id)\n",
    "            course_obj.corequisite.append(co_obj)\n",
    "\n",
    "# 4. Save OWL file\n",
    "onto.save(file=\"courses.owl\", format=\"rdfxml\")\n",
    "print(\"Ontology saved as courses.owl\")\n"
   ]
  },
  {
   "cell_type": "code",
   "execution_count": 77,
   "metadata": {
    "id": "3P3tP11-5tox"
   },
   "outputs": [],
   "source": [
    "# from rdflib import Graph, Namespace, RDF, RDFS, URIRef, Literal\n",
    "\n",
    "# # Define Namespaces\n",
    "# EX = Namespace(\"http://example.org/\")\n",
    "\n",
    "# # Create graph\n",
    "# g = Graph()\n",
    "# g.bind(\"ex\", EX)\n",
    "\n",
    "# # --- Concepts (C1, C2, C3…) ---\n",
    "# g.add((EX.Student, RDF.type, RDFS.Class))\n",
    "# g.add((EX.Course, RDF.type, RDFS.Class))\n",
    "# g.add((EX.Goal, RDF.type, RDFS.Class))\n",
    "\n",
    "# # --- Relationships (R1, R2…) ---\n",
    "# g.add((EX.hasGoal, RDF.type, RDF.Property))\n",
    "# g.add((EX.hasGoal, RDFS.domain, EX.Student))\n",
    "# g.add((EX.hasGoal, RDFS.range, EX.Goal))\n",
    "\n",
    "# g.add((EX.fitsGoal, RDF.type, RDF.Property))\n",
    "# g.add((EX.fitsGoal, RDFS.domain, EX.Course))\n",
    "# g.add((EX.fitsGoal, RDFS.range, EX.Goal))\n",
    "\n",
    "# # --- Instances ---\n",
    "# g.add((EX.Alice, RDF.type, EX.Student))\n",
    "# g.add((EX.AI, RDF.type, EX.Goal))\n",
    "# g.add((EX.DeepLearning, RDF.type, EX.Course))\n",
    "\n",
    "# # --- Relations Between Instances ---\n",
    "# g.add((EX.Alice, EX.hasGoal, EX.AI))\n",
    "# g.add((EX.DeepLearning, EX.fitsGoal, EX.AI))\n",
    "\n",
    "# # --- Simple Inference (manual logic for now) ---\n",
    "# for student, _, goal in g.triples((None, EX.hasGoal, None)):\n",
    "#     for course, _, course_goal in g.triples((None, EX.fitsGoal, goal)):\n",
    "#         print(f\"Recommend {course.split('/')[-1]} to {student.split('/')[-1]} because it fits goal: {goal.split('/')[-1]}\")\n"
   ]
  }
 ],
 "metadata": {
  "colab": {
   "provenance": []
  },
  "kernelspec": {
   "display_name": "base",
   "language": "python",
   "name": "python3"
  },
  "language_info": {
   "codemirror_mode": {
    "name": "ipython",
    "version": 3
   },
   "file_extension": ".py",
   "mimetype": "text/x-python",
   "name": "python",
   "nbconvert_exporter": "python",
   "pygments_lexer": "ipython3",
   "version": "3.13.5"
  }
 },
 "nbformat": 4,
 "nbformat_minor": 0
}
